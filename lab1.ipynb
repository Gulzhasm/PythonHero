{
 "cells": [
  {
   "cell_type": "markdown",
   "metadata": {
    "id": "KtbBxXk6Eshi"
   },
   "source": [
    "# ECS759P AI - Lab 1 (Part 1): Basics of coding in Python\n",
    "\n",
    "Python is an *interpreted* language. This means that the instructions are executed directly (by an \"interpreter\"), and you do not have to \"compile\" your code. In addition, you do not need to declare a type for your variables since they are dynamically assigned depending on their content or usage.\n",
    "\n",
    "Python uses **indentation** (whitespaces, created e.g. with pressing the tab key) to delimit a code block (instead of curly brackets, or begin/end keywords, etc). If you do not indent properly, your code will either not run, or worse, will do something unintended.\n",
    "\n",
    "We are going to look into some basic functionalities of Python that are needed for the future labs and coursework exercises. You might be familiar with some of them, but please make sure you are comfortable with all of them.\n",
    "\n",
    "Note that the following code is in Python 3 (not 2), if you are using your own Python environment.\n"
   ]
  },
  {
   "cell_type": "markdown",
   "metadata": {
    "id": "4haaQAfJYssD"
   },
   "source": [
    "## Notebook\n",
    "\n",
    "This environment allows us to both enter text and run code interactively. It is called ***[notebook](https://jupyter.org/)***.\n",
    "\n",
    "Notebooks can be composed of two types of cells: *Text* and *Code*. You can add your own cells (in Colab, hover your mouse over the edge between two cells, an option should pop up to add either a text cell or a code cell)\n",
    "\n",
    "You can edit the content of the *text* cells by double-clicking on them. It follows the [markup rules](https://github.com/adam-p/markdown-here/wiki/Markdown-Cheatsheet).\n",
    "\n",
    "In order to **execute (run) a cell**, you can use one of the following ways:\n",
    "\n",
    "1. `Shift + Enter` : executes a cell and goes to the next one.\n",
    "2. `Ctrl + Enter` : executes a block but stays at the same block.\n",
    "3. The above is equivalent to clicking on the *run* button in the top left menu.\n",
    "4. Use the `Run` tab (at the top of the page), which gives you more options.\n",
    "\n",
    "### Some useful tricks in Notebook:\n",
    "\n",
    "- While writing a code (in a code-type block), you can use the **`tab`** key for **auto-completion**. You can also use `tab` after a **`dot`** to see a drop-down list of the available attributes and methods on an object or a class.\n",
    "\n",
    "- Another cool feature of the `notebook` environment is that in order to get **help** on anything (a method, a function, an object, etc), you can just put a question mark in front of it (without any space) and execute that line. A help box will appear, which you can close after reading.\n",
    "\n",
    "- Something to keep in mind is that objects and functions (runtime variables) persist between different cells in the same notebook session. If you want to clear the memory, you can choose \"Run\" and then the \"Restart Kernel and Run All Cells...\" tab from the top-left menu."
   ]
  },
  {
   "cell_type": "markdown",
   "metadata": {
    "id": "hUiI8HvMW5eS"
   },
   "source": [
    "## Interacting with the user\n",
    "To display information, or ask for the user's input, we can use `print()` and `input()` functions."
   ]
  },
  {
   "cell_type": "code",
   "execution_count": 1,
   "metadata": {
    "id": "Nb8ny_b-HQS1"
   },
   "outputs": [
    {
     "name": "stdin",
     "output_type": "stream",
     "text": [
      "What is your name?  julie\n"
     ]
    },
    {
     "name": "stdout",
     "output_type": "stream",
     "text": [
      "Hello Julie! How can I help you?\n",
      "Hello Julie! How can I help you?\n"
     ]
    }
   ],
   "source": [
    "user_input = input(\"What is your name? \")\n",
    "print(\"Hello {}! How can I help you?\".format(user_input.capitalize()))\n",
    "# could also be (using f strings):\n",
    "print(f\"Hello {user_input.capitalize()}! How can I help you?\")"
   ]
  },
  {
   "cell_type": "markdown",
   "metadata": {
    "id": "C_O4lJkZcmKn"
   },
   "source": [
    "*NOTE:* You can ask for strings or numbers. However, be careful the type that `input()` returns is **always a string**. If you want to ask the user for an integer or a float number, then you can use **type-casting** using `int()` and `float()` functions.\n",
    "\n",
    "**Q. Write the code below that asks the user to enter their name and their age. Print out a message that tells them the year that they will turn 100 years old.**\n"
   ]
  },
  {
   "cell_type": "code",
   "execution_count": 2,
   "metadata": {
    "id": "8LNkWLf8ezlY"
   },
   "outputs": [
    {
     "name": "stdin",
     "output_type": "stream",
     "text": [
      "What is your name?  julie\n",
      "What is your age?  38\n"
     ]
    },
    {
     "name": "stdout",
     "output_type": "stream",
     "text": [
      "Hello julie.\n",
      "You will turn 100 years old in 62 years.\n"
     ]
    }
   ],
   "source": [
    "# TO DO\n",
    "name = input(\"What is your name? \")\n",
    "age = input(\"What is your age? \")\n",
    "print('Hello ' + name + \".\")\n",
    "print('You will turn 100 years old in ' + str(100-int(age)) + \" years.\")"
   ]
  },
  {
   "cell_type": "markdown",
   "metadata": {
    "id": "AhjMvjnhh1n5"
   },
   "source": [
    "You can also type-cast from numbers (integer or float) to string by using the `str()` function."
   ]
  },
  {
   "cell_type": "markdown",
   "metadata": {
    "id": "FIo1Rg7xcbQG"
   },
   "source": [
    "\n",
    "## Conditions in Python\n",
    "It is typical to want to execute an operation only in some specific cases. It comes down to creating conditions. For instance:"
   ]
  },
  {
   "cell_type": "code",
   "execution_count": 3,
   "metadata": {
    "id": "BTKbLbxvIUdm"
   },
   "outputs": [
    {
     "name": "stdout",
     "output_type": "stream",
     "text": [
      "The value is greater than 5\n"
     ]
    }
   ],
   "source": [
    " val = 7\n",
    " if val < 3:\n",
    "   print(\"The input value is smaller than 3\")\n",
    " elif val <= 5:\n",
    "   print(\"The input value is either 3, 4 or 5\")\n",
    " else:\n",
    "   print(\"The value is greater than 5\")"
   ]
  },
  {
   "cell_type": "markdown",
   "metadata": {
    "id": "MS2WmcbkIa0O"
   },
   "source": [
    "Pay attention to the use of *indentation* as well as `:` (the colons).\n",
    "\n",
    "Recall that indentations are NOT optional in Python (so as to only make the code more readable) but rather a strict part of the syntax.   \n",
    "\n",
    "Feel free to change `val` and set it to `1`, `3`, and `4`. You can also change the conditions (using `>, >=, ==`) or just change the thresholds.\n",
    "\n"
   ]
  },
  {
   "cell_type": "markdown",
   "metadata": {
    "id": "Sf-0uCSTistL"
   },
   "source": [
    "## Using `range()`\n",
    "Python provides a useful function, `range()` that will create an object containing a set of numbers according to its parameters. For instance:"
   ]
  },
  {
   "cell_type": "code",
   "execution_count": 4,
   "metadata": {
    "id": "tlVwZXBQJYX6"
   },
   "outputs": [
    {
     "name": "stdout",
     "output_type": "stream",
     "text": [
      "[0, 1, 2, 3, 4, 5, 6, 7, 8, 9]\n",
      "[2, 3, 4, 5, 6, 7, 8, 9, 10, 11, 12, 13, 14, 15, 16, 17]\n",
      "[3, 6, 9, 12, 15, 18, 21, 24, 27, 30]\n"
     ]
    }
   ],
   "source": [
    "my_range = range(10)\n",
    "print(list(my_range))\n",
    "\n",
    "my_second_range = range(2, 18)\n",
    "print(list(my_second_range))\n",
    "\n",
    "my_third_range = range(3, 31, 3)\n",
    "print(list(my_third_range))"
   ]
  },
  {
   "cell_type": "markdown",
   "metadata": {
    "id": "zqP458CWJhML"
   },
   "source": [
    "Try to change the argument inside `range()`. You should observe that if we are passing only one (integer) argument to this function, it will generate all integers between 0 (**included**) and the input **not included**. Using two arguments, will create an object with all the integers between the first bound (start) **included** to the second bound (stop) not **included**. Can you say what happens when we use three arguments?\n"
   ]
  },
  {
   "cell_type": "markdown",
   "metadata": {
    "id": "NxLDDxyOMACk"
   },
   "source": [
    "## `For` loops\n",
    "When you need to execute the same operation a given number of times, you may want to use a `for` loop as follows:"
   ]
  },
  {
   "cell_type": "code",
   "execution_count": 5,
   "metadata": {
    "id": "b801WTnSMMVO"
   },
   "outputs": [
    {
     "name": "stdout",
     "output_type": "stream",
     "text": [
      "This is iteration number 1.\n",
      "This is iteration number 2.\n",
      "This is iteration number 3.\n",
      "This is iteration number 4.\n",
      "This is iteration number 5.\n"
     ]
    }
   ],
   "source": [
    "for index in range(1, 6):\n",
    "  print(\"This is iteration number {}.\".format(index))"
   ]
  },
  {
   "cell_type": "markdown",
   "metadata": {
    "id": "uLcacrFoMe4t"
   },
   "source": [
    "If you change the `6` to `10`, what happens?\n",
    "\n",
    "Note that you can **nest** `for` loops (again, do not forget the indentation):"
   ]
  },
  {
   "cell_type": "code",
   "execution_count": 6,
   "metadata": {
    "id": "-1FbXKNZMwKj"
   },
   "outputs": [
    {
     "name": "stdout",
     "output_type": "stream",
     "text": [
      "First (outer) index: 0, Second (inner) index: 0\n",
      "First (outer) index: 0, Second (inner) index: 1\n",
      "First (outer) index: 0, Second (inner) index: 2\n",
      "First (outer) index: 1, Second (inner) index: 0\n",
      "First (outer) index: 1, Second (inner) index: 1\n",
      "First (outer) index: 1, Second (inner) index: 2\n",
      "First (outer) index: 2, Second (inner) index: 0\n",
      "First (outer) index: 2, Second (inner) index: 1\n",
      "First (outer) index: 2, Second (inner) index: 2\n",
      "First (outer) index: 3, Second (inner) index: 0\n",
      "First (outer) index: 3, Second (inner) index: 1\n",
      "First (outer) index: 3, Second (inner) index: 2\n",
      "First (outer) index: 4, Second (inner) index: 0\n",
      "First (outer) index: 4, Second (inner) index: 1\n",
      "First (outer) index: 4, Second (inner) index: 2\n"
     ]
    }
   ],
   "source": [
    "for first_index in range(5):\n",
    "  for second_index in range(3):\n",
    "    print(\"First (outer) index: {}, Second (inner) index: {}\".format(first_index, second_index))\n",
    "    # how to do this with f strings? Encourage students to do it"
   ]
  },
  {
   "cell_type": "markdown",
   "metadata": {
    "id": "WVr46DTl7EqV"
   },
   "source": [
    "## Lists\n",
    "List is one of the basic data types in Python, holding a collection of items with a specific order.\n",
    "\n",
    "One of the properties of Python's list is that it can contain elements of different types:"
   ]
  },
  {
   "cell_type": "code",
   "execution_count": 7,
   "metadata": {
    "id": "UqwXGD28PhpS"
   },
   "outputs": [],
   "source": [
    "my_list = [\"Welcome to AI\", 21, \"q\", -78, [\"What is the answer?\"], [[42]]]"
   ]
  },
  {
   "cell_type": "markdown",
   "metadata": {
    "id": "i13IgPBCPwoX"
   },
   "source": [
    "Keep in mind that a list is an *iterable* object which means that you can directly go through it without indices. The two snippets below will output the exact same thing:\n",
    "\n"
   ]
  },
  {
   "cell_type": "code",
   "execution_count": 8,
   "metadata": {
    "id": "BsPgjATKP4xQ"
   },
   "outputs": [
    {
     "name": "stdout",
     "output_type": "stream",
     "text": [
      "One of the elements of the list is 'Welcome to AI'\n",
      "One of the elements of the list is '21'\n",
      "One of the elements of the list is 'q'\n",
      "One of the elements of the list is '-78'\n",
      "One of the elements of the list is '['What is the answer?']'\n",
      "One of the elements of the list is '[[42]]'\n",
      "-----------------------\n",
      "One of the elements of the list is 'Welcome to AI'\n",
      "One of the elements of the list is '21'\n",
      "One of the elements of the list is 'q'\n",
      "One of the elements of the list is '-78'\n",
      "One of the elements of the list is '['What is the answer?']'\n",
      "One of the elements of the list is '[[42]]'\n"
     ]
    }
   ],
   "source": [
    "# you should not use this:\n",
    "for index in range(len(my_list)):\n",
    "  print(\"One of the elements of the list is '{}'\".format(my_list[index]))\n",
    "\n",
    "print(\"-----------------------\")\n",
    "\n",
    "# we prefer the following in python:\n",
    "for element in my_list:\n",
    "  print(\"One of the elements of the list is '{}'\".format(element))\n",
    "\n"
   ]
  },
  {
   "cell_type": "markdown",
   "metadata": {
    "id": "QiK8AnZsQaKq"
   },
   "source": [
    "*Useful trick:* You can iterate through both the index and the value of the list using the function `enumerate()`:"
   ]
  },
  {
   "cell_type": "code",
   "execution_count": 9,
   "metadata": {
    "id": "vs0WPxUFQt4G"
   },
   "outputs": [
    {
     "name": "stdout",
     "output_type": "stream",
     "text": [
      "The element of the list at index 0 is 'Welcome to AI'\n",
      "The element of the list at index 1 is '21'\n",
      "The element of the list at index 2 is 'q'\n",
      "The element of the list at index 3 is '-78'\n",
      "The element of the list at index 4 is '['What is the answer?']'\n",
      "The element of the list at index 5 is '[[42]]'\n"
     ]
    }
   ],
   "source": [
    "for index, value in enumerate(my_list):\n",
    "  print(\"The element of the list at index {} is '{}'\".format(index, value))"
   ]
  },
  {
   "cell_type": "markdown",
   "metadata": {
    "id": "oSoQQpE5_sCj"
   },
   "source": [
    "Note that the indices in Python start with 0 (and not 1!). Python allows negative indexing as well:"
   ]
  },
  {
   "cell_type": "code",
   "execution_count": 10,
   "metadata": {
    "id": "nTruF2aD_4E4"
   },
   "outputs": [
    {
     "name": "stdout",
     "output_type": "stream",
     "text": [
      "The first element of the list is: 'Welcome to AI'\n",
      "The second element of the list is: '21'\n",
      "The last element of the list is: '[[42]]'\n",
      "The second to last element of the list is: '['What is the answer?']'\n"
     ]
    }
   ],
   "source": [
    "print(\"The first element of the list is: '{}'\".format(my_list[0]))\n",
    "print(\"The second element of the list is: '{}'\".format(my_list[1]))\n",
    "print(\"The last element of the list is: '{}'\".format(my_list[-1]))\n",
    "print(\"The second to last element of the list is: '{}'\".format(my_list[-2]))"
   ]
  },
  {
   "cell_type": "markdown",
   "metadata": {
    "id": "Xs-tv_1eTZza"
   },
   "source": [
    "You can change a specific element of a list, or change the size of a list by removing or popping existing elements, or by appending new elements.\n",
    "\n",
    "Please note that `remove()` only deletes the **first** occurrence of the argument in the list. `pop()` would remove and **return** the element corresponding to the specified index (which can also be a negative index, which you should know what the interpretation is by now)."
   ]
  },
  {
   "cell_type": "code",
   "execution_count": 11,
   "metadata": {
    "id": "8ujzu2wRSJFL"
   },
   "outputs": [
    {
     "name": "stdout",
     "output_type": "stream",
     "text": [
      "The original list is:\n",
      "['Welcome to AI', 21, 'q', -78, ['What is the answer?'], [[42]]]\n",
      "\n",
      "After removing -78, the list is:\n",
      "['Welcome to AI', 21, 'q', ['What is the answer?'], [[42]]]\n",
      "\n",
      "After popping the second element, the list is:\n",
      "['Welcome to AI', 21, ['What is the answer?'], [[42]]] and the popped element is q\n",
      "\n",
      "After modification of the second element, the list is:\n",
      "['Welcome to AI', 'I changed this element', ['What is the answer?'], [[42]]]\n",
      "\n",
      "After appending 78.9, the list is:\n",
      "['Welcome to AI', 'I changed this element', ['What is the answer?'], [[42]], 78.9]\n",
      "\n",
      "After extending the list, we get:\n",
      "['Welcome to AI', 'I changed this element', ['What is the answer?'], [[42]], 78.9, 'almost', 'halfway', 'through']\n",
      "\n"
     ]
    }
   ],
   "source": [
    "my_list_copy = my_list.copy() # We create a copy of the previous list\n",
    "print(\"The original list is:\\n{}\\n\".format(my_list_copy))\n",
    "\n",
    "my_list_copy.remove(-78) # remove the \"first\" occurence of \"-78\"\n",
    "print(\"After removing -78, the list is:\\n{}\\n\".format(my_list_copy))\n",
    "\n",
    "popped_element = my_list_copy.pop(2) # remove (and return) the item at index 2\n",
    "print(\"After popping the second element, the list is:\\n{} and the popped element is {}\\n\".format(my_list_copy, popped_element))\n",
    "my_list_copy[1] = \"I changed this element\"\n",
    "print(\"After modification of the second element, the list is:\\n{}\\n\".format(my_list_copy))\n",
    "my_list_copy.append(78.9)\n",
    "print(\"After appending 78.9, the list is:\\n{}\\n\".format(my_list_copy))\n",
    "my_list_copy.extend(['almost', 'halfway', 'through']) # if one needs to append multiple elements, it can be done in one line\n",
    "print(\"After extending the list, we get:\\n{}\\n\".format(my_list_copy))"
   ]
  },
  {
   "cell_type": "markdown",
   "metadata": {
    "id": "yyfqSEzUQ3NW"
   },
   "source": [
    "Another useful property of a list is that you can also access a **slice** of it. In the code below, notice how the position of the `:` affects the resulting list. You will notice it is somewhat analogous to how the arguments in `range()` works."
   ]
  },
  {
   "cell_type": "code",
   "execution_count": 12,
   "metadata": {
    "id": "w8Fc6Y4MRCFt"
   },
   "outputs": [
    {
     "name": "stdout",
     "output_type": "stream",
     "text": [
      "[21, 'q', -78, ['What is the answer?']]\n",
      "[21, 'q', -78, ['What is the answer?'], [[42]]]\n",
      "['Welcome to AI', 21, 'q']\n",
      "['Welcome to AI', 21, 'q', -78, ['What is the answer?']]\n",
      "[21, -78]\n"
     ]
    }
   ],
   "source": [
    "print(my_list[1:5])\n",
    "print(my_list[1:])\n",
    "print(my_list[:3])\n",
    "print(my_list[:-1])\n",
    "print(my_list[1:-1:2])"
   ]
  },
  {
   "cell_type": "markdown",
   "metadata": {
    "id": "Xy2pew6DRQMi"
   },
   "source": [
    "Try to change the two integers inside the squared brackets. What happens? Basically you can access the values of the list indexed between the first boundary **included** and the last boundary **not included**.\n",
    "\n",
    "**Q. Given the** `simple_list` **below, use a** `for` **loop to create a list of single-digit odd numbers in reverse order.**"
   ]
  },
  {
   "cell_type": "code",
   "execution_count": 31,
   "metadata": {
    "id": "eE1ei4mJTT6C"
   },
   "outputs": [
    {
     "name": "stdout",
     "output_type": "stream",
     "text": [
      "[9, 7, 5, 3, 1]\n"
     ]
    }
   ],
   "source": [
    "simple_list = list(range(10))\n",
    "new_list = []\n",
    "\n",
    "for num in reversed(simple_list):\n",
    "    if num % 2 != 0:\n",
    "        new_list.append(num)\n",
    "\n",
    "print(new_list)"
   ]
  },
  {
   "cell_type": "markdown",
   "metadata": {
    "id": "1voJjC0aTqdG"
   },
   "source": [
    "**Q. Now do the same thing, but use slicing.**"
   ]
  },
  {
   "cell_type": "code",
   "execution_count": 32,
   "metadata": {
    "id": "8ulfxgG9GBxx"
   },
   "outputs": [
    {
     "name": "stdout",
     "output_type": "stream",
     "text": [
      "[9, 7, 5, 3, 1]\n"
     ]
    }
   ],
   "source": [
    "simple_list = list(range(10))\n",
    "new_list = []\n",
    "\n",
    "for num in simple_list[::-1]:\n",
    "    if num % 2 != 0:\n",
    "        new_list.append(num)\n",
    "\n",
    "print(new_list)"
   ]
  },
  {
   "cell_type": "markdown",
   "metadata": {
    "id": "2blMGkGcLfyz"
   },
   "source": [
    "## List comprehension\n",
    "Instead of creating new lists every time we perform operations on them, Python provides a compact and useful way to deal with that. It is called list comprehension. For instance:"
   ]
  },
  {
   "cell_type": "code",
   "execution_count": 33,
   "metadata": {
    "id": "Ay7e58aZVSlz"
   },
   "outputs": [
    {
     "name": "stdout",
     "output_type": "stream",
     "text": [
      "[1, 32, 243, 1024, 3125]\n"
     ]
    }
   ],
   "source": [
    "print([i**5 for i in range(1,6)])"
   ]
  },
  {
   "cell_type": "markdown",
   "metadata": {
    "id": "WViyPmnHVZOG"
   },
   "source": [
    "It creates a list of each element between 1 and 5 (included) to the power of five. You can play with the numbers inside the `range()` to see what happens. What is the output if instead of `i**5` you have (2*i+1)**2? <br/>\n",
    "You can embed some conditions inside the list comprehension:"
   ]
  },
  {
   "cell_type": "code",
   "execution_count": 34,
   "metadata": {
    "id": "Bp1ZIMtlV7Jg"
   },
   "outputs": [
    {
     "name": "stdout",
     "output_type": "stream",
     "text": [
      "[1024, 1048576]\n"
     ]
    }
   ],
   "source": [
    "print([i**10 for i in range(1,5) if (i == 2 or i == 4)])"
   ]
  },
  {
   "cell_type": "markdown",
   "metadata": {
    "id": "XJHoRg1HWBe_"
   },
   "source": [
    "Although `i` will take all the value between 1 and 4, only 2<sup>10</sup> and 4<sup>10</sup> will be kept in the output list. Try to change this line to output only 3<sup>6</sup> and 5<sup>6</sup>. You can even add more complexity using *if/else* statement inside."
   ]
  },
  {
   "cell_type": "code",
   "execution_count": 35,
   "metadata": {
    "id": "VqBUzyHoWtQp"
   },
   "outputs": [
    {
     "name": "stdout",
     "output_type": "stream",
     "text": [
      "[10, 20, 30, 40, 50, 12, 14, 16, 18, 20]\n",
      "[1, 8, 27, 64, 125, 81, 100]\n"
     ]
    }
   ],
   "source": [
    "print([val * 10 if val <=5 else val *2 for val in range(1, 11)])\n",
    "\n",
    "# modified to get a list containing the cube of all numbers lower than 6 and the square of all values above 8\n",
    "print([val ** 3 if val <=6 else val **2 for val in range(1, 11) if (val <6 or val > 8)])"
   ]
  },
  {
   "cell_type": "markdown",
   "metadata": {
    "id": "rRaUVYyWW3Og"
   },
   "source": [
    "Thanks to the *if/else* statement we can have two different operations carried out on the values of the `range()` based on their value. Now let's try to modify the previous line to get a list containing the cube of all numbers lower than 6 and the square of all values above 8."
   ]
  },
  {
   "cell_type": "markdown",
   "metadata": {
    "id": "eTqGFoNA5tex"
   },
   "source": [
    "**Q. Write the code below that asks the user for a number greater than 10 (let's say a). Then create a list containing all the squared numbers before a<sup>2</sup>. Using two list comprehensions, create two lists, one with all the even and the other with all the odd squared numbers.**"
   ]
  },
  {
   "cell_type": "code",
   "execution_count": 45,
   "metadata": {
    "id": "eah5pmBf5tex"
   },
   "outputs": [
    {
     "name": "stdin",
     "output_type": "stream",
     "text": [
      "Please enter a number greater than 10:  11\n"
     ]
    },
    {
     "name": "stdout",
     "output_type": "stream",
     "text": [
      "Hello User! Your number is 11\n",
      "[4, 16, 36, 64, 100]\n",
      "[1, 9, 25, 49, 81]\n"
     ]
    }
   ],
   "source": [
    "user_input = int(input(\"Please enter a number greater than 10: \"))\n",
    "\n",
    "if user_input > 10:\n",
    "    print(\"Hello User! Your number is\", user_input)\n",
    "even_squares = [num**2 for num in range(1, user_input) if(num % 2 == 0)]\n",
    "odd_squares = [num**2 for num in range(1, user_input) if(num % 2 != 0)]\n",
    "print(even_squares)\n",
    "print(odd_squares)\n"
   ]
  },
  {
   "cell_type": "markdown",
   "metadata": {
    "id": "1FJJ0B-lMvwm"
   },
   "source": [
    "## Declaring and using functions\n",
    "\n",
    "It is very likely that some operations have to be carried out several times, but not with the same values. Instead of duplicating code, you can create functions."
   ]
  },
  {
   "cell_type": "code",
   "execution_count": 46,
   "metadata": {
    "id": "LAkLpdiDXuCa"
   },
   "outputs": [],
   "source": [
    "def mean_function(value1, value2):\n",
    "  # You can do operations here\n",
    "  # ...\n",
    "  # But don't forget to return something\n",
    "  return (value1 + value2) / 2"
   ]
  },
  {
   "cell_type": "markdown",
   "metadata": {
    "id": "3_qvF6wGX1FI"
   },
   "source": [
    "If you run the above cell, nothing happens. It is because we have just created this function and now we can call it:"
   ]
  },
  {
   "cell_type": "code",
   "execution_count": 47,
   "metadata": {
    "id": "UWMb6IMcYBbW"
   },
   "outputs": [
    {
     "name": "stdout",
     "output_type": "stream",
     "text": [
      "The mean of 5 and 6 is: 5.5\n",
      "The mean of 7 and 89 is: 48.0\n",
      "The mean of -78 and 983 is: 452.5\n"
     ]
    }
   ],
   "source": [
    "print(\"The mean of 5 and 6 is: {}\".format(mean_function(5, 6)))\n",
    "print(\"The mean of 7 and 89 is: {}\".format(mean_function(7, 89)))\n",
    "print(\"The mean of -78 and 983 is: {}\".format(mean_function(-78, 983)))"
   ]
  },
  {
   "cell_type": "markdown",
   "metadata": {
    "id": "2OrjK8gLYjHZ"
   },
   "source": [
    "As you can see, we can now use this function as much as we want and with different values. Try with your own value. You can even try with floats instead of integers.\n"
   ]
  },
  {
   "cell_type": "markdown",
   "metadata": {
    "id": "v2m8VJzlM2P-"
   },
   "source": [
    "# Numpy basics\n",
    "\n",
    "When dealing with high dimensional problems, we are going to deal with nested lists, which can be a bit painful. That is why we are going to now introduce numpy, a (very useful) Python library allowing, among other things, to manipulate multi-dimensional arrays and perform linear algebra. This lab cannot cover all the useful functions contained in numpy, so we advise you to have a look [here](https://numpy.org/) when needed."
   ]
  },
  {
   "cell_type": "markdown",
   "metadata": {
    "id": "5Oo82uOUM7zi"
   },
   "source": [
    "## Numpy arrays\n",
    "In order to use numpy, we are not going to work with lists any more (even if they are still useful) but numpy arrays. Sometimes it is better to convert lists containing only *integers*, *floats* or nested lists of *integers*, *floats* into numpy arrays. For instance:"
   ]
  },
  {
   "cell_type": "code",
   "execution_count": 48,
   "metadata": {
    "id": "4pQMVEO7aAsx"
   },
   "outputs": [
    {
     "name": "stdout",
     "output_type": "stream",
     "text": [
      "The shape of the first array is (5,)\n",
      "The shape of the second array is (2, 3)\n"
     ]
    }
   ],
   "source": [
    "import numpy as np\n",
    "\n",
    "my_first_np_array = np.array([5, 9, 8, 5.7, 75])\n",
    "print(\"The shape of the first array is {}\".format(my_first_np_array.shape))\n",
    "\n",
    "my_second_np_array = np.array([[3,-1,5], [5,4,3.8]])\n",
    "print(\"The shape of the second array is {}\".format(my_second_np_array.shape))"
   ]
  },
  {
   "cell_type": "markdown",
   "metadata": {
    "id": "_8NR_q5EalDb"
   },
   "source": [
    "In the first case it is equivalent to a vector with 5 elements. In the second it is equivalent to have a matrix with two rows and 3 columns. Try to change the values and dimensions of the lists to understand the constraints about the dimensions.\n",
    "\n",
    "## Element-wise operations\n",
    "\n",
    "**Q. In the cell below implement the element-wise addition of two lists: `[1, 2, 3]` and `[7, 8, 9]`. Then try to do it with the following matrices: `[[1,2,3], [4,5,6]]` and `[[4,5,6], [1,2,3]]`. You can create a function for that.**"
   ]
  },
  {
   "cell_type": "code",
   "execution_count": 54,
   "metadata": {
    "id": "c7MSm41qbkZv"
   },
   "outputs": [
    {
     "name": "stdout",
     "output_type": "stream",
     "text": [
      "[8, 10, 12]\n"
     ]
    }
   ],
   "source": [
    "import numpy as np\n",
    "\n",
    "my_first_np_array = np.array([1, 2, 3])\n",
    "my_second_np_array = np.array([7, 8, 9])\n",
    "result = [a + b for a, b in zip(my_first_np_array, my_second_np_array)]\n",
    "print(result)\n"
   ]
  },
  {
   "cell_type": "markdown",
   "metadata": {
    "id": "c9oOxaU0bnma"
   },
   "source": [
    "Now let's try to do it with numpy. It is quite convenient.\n"
   ]
  },
  {
   "cell_type": "code",
   "execution_count": 55,
   "metadata": {
    "id": "FF2apeSjbyOO"
   },
   "outputs": [
    {
     "name": "stdout",
     "output_type": "stream",
     "text": [
      "[ 8 10 12]\n",
      "--------------\n",
      "[[5 7 9]\n",
      " [5 7 9]]\n"
     ]
    }
   ],
   "source": [
    "added_vectors = np.array([1, 2, 3]) + np.array([7, 8, 9])\n",
    "print(added_vectors) # If you want a list and not a numpy array you can do added_vectors.tolist()\n",
    "\n",
    "print(\"--------------\")\n",
    "\n",
    "added_matrices = np.array([[1,2,3], [4,5,6]]) + np.array([[4,5,6], [1,2,3]])\n",
    "print(added_matrices)"
   ]
  },
  {
   "cell_type": "markdown",
   "metadata": {
    "id": "NCWgy9a7cyOA"
   },
   "source": [
    "You can use these results to compare with the output of your functions. They should be the same. As you can see it is more convenient. It is also true for difference, multiplication and division.\n",
    "\n",
    "## Multi-dimensional arrays\n",
    "\n",
    "You can directly create multi-dimensional arrays using some provided functions. For instance you can create a 150x98 matrix with random numbers (drawn from a uniform distribution) using:"
   ]
  },
  {
   "cell_type": "code",
   "execution_count": 56,
   "metadata": {
    "id": "9U0M5w5Td1By"
   },
   "outputs": [
    {
     "name": "stdout",
     "output_type": "stream",
     "text": [
      "[[0.19314824 0.95541749 0.00369701 ... 0.622759   0.26588608 0.85790277]\n",
      " [0.51313245 0.27664637 0.04658337 ... 0.44517845 0.10877747 0.91062469]\n",
      " [0.15978076 0.73023051 0.88353767 ... 0.98025881 0.15135903 0.46590632]\n",
      " ...\n",
      " [0.13615376 0.64021212 0.6534276  ... 0.35713615 0.54058376 0.62474239]\n",
      " [0.15306565 0.78907613 0.92847168 ... 0.16332239 0.28607056 0.94892591]\n",
      " [0.93086159 0.64150291 0.08103037 ... 0.85419646 0.80111537 0.08553739]]\n"
     ]
    }
   ],
   "source": [
    "random_matrix = np.random.random([150,98])\n",
    "print(random_matrix)"
   ]
  },
  {
   "cell_type": "markdown",
   "metadata": {
    "id": "akZmmJ0oeEOG"
   },
   "source": [
    "If you run the above cell several time you will see that the numbers are changing. Try to create a random 3x3 matrix and a 6x8 matrix containing only 1s (you can look below if you do not manage to do it).\n",
    "\n",
    "### Slicing a numpy array\n",
    "It is possible to slice and change the value of a numpy array using the same syntax as before."
   ]
  },
  {
   "cell_type": "code",
   "execution_count": 57,
   "metadata": {
    "id": "a0LjqFhlep5o"
   },
   "outputs": [
    {
     "name": "stdout",
     "output_type": "stream",
     "text": [
      "Initial array is: \n",
      " [[1. 1. 1. 1.]\n",
      " [1. 1. 1. 1.]\n",
      " [1. 1. 1. 1.]\n",
      " [1. 1. 1. 1.]\n",
      " [1. 1. 1. 1.]\n",
      " [1. 1. 1. 1.]\n",
      " [1. 1. 1. 1.]\n",
      " [1. 1. 1. 1.]]\n",
      "Modified array is \n",
      " [[1. 1. 1. 3.]\n",
      " [1. 1. 1. 1.]\n",
      " [1. 1. 1. 1.]\n",
      " [1. 1. 1. 1.]\n",
      " [1. 1. 2. 1.]\n",
      " [1. 1. 1. 1.]\n",
      " [1. 4. 1. 1.]\n",
      " [1. 1. 1. 1.]]\n",
      "The three first columns are: \n",
      " [[1. 1. 1.]\n",
      " [1. 1. 1.]\n",
      " [1. 1. 1.]\n",
      " [1. 1. 1.]\n",
      " [1. 1. 2.]\n",
      " [1. 1. 1.]\n",
      " [1. 4. 1.]\n",
      " [1. 1. 1.]]\n"
     ]
    }
   ],
   "source": [
    "example_array = np.ones([8,4])\n",
    "print(\"Initial array is: \\n {}\".format(example_array))\n",
    "example_array[4,2] = 2\n",
    "example_array[0,3] = 3\n",
    "example_array[6,1] = 4\n",
    "print(\"Modified array is \\n {}\".format(example_array))\n",
    "three_first_columns = example_array[:, :3]\n",
    "print(\"The three first columns are: \\n {}\".format(three_first_columns))"
   ]
  },
  {
   "cell_type": "markdown",
   "metadata": {
    "id": "odOLvPKgferf"
   },
   "source": [
    "Now try to print the 4 last rows of the numpy array. What about extracting only the smallest rectangle containing the 2 and 4?\n",
    "\n",
    "## Modifying the size of an array\n",
    "\n",
    "Sometimes we want the size of the array to change without changing its content.\n",
    "Try to **reshape** the given array to a 5x4 matrix."
   ]
  },
  {
   "cell_type": "code",
   "execution_count": 58,
   "metadata": {
    "id": "kA0cqYddgQpW"
   },
   "outputs": [],
   "source": [
    "given_array = np.array([[1, 2, 3, 4, 5, 6, 7, 8, 9, 10], [11 ,12 ,13, 14, 15, 16, 17, 18, 19, 20]])\n",
    "# a little hint: check out the built-in reshape method from the numpy library online"
   ]
  },
  {
   "cell_type": "markdown",
   "metadata": {
    "id": "iUx6cV8Wg3Gj"
   },
   "source": [
    "Now let's try to make it as a 2x10 matrix. You have different ways to do so. Can you make it a 7x3 matrix? If not try to understand why.\n",
    "\n",
    "You can also change the size of the array by stacking new rows or columns.\n",
    "\n",
    "**Q. In the cell below try to stack a row and a column of 1s to the following matrix.**"
   ]
  },
  {
   "cell_type": "code",
   "execution_count": 67,
   "metadata": {
    "id": "yF_Rq89phRJT"
   },
   "outputs": [
    {
     "name": "stdout",
     "output_type": "stream",
     "text": [
      "[[0. 0. 0. 0.]\n",
      " [0. 0. 0. 0.]\n",
      " [0. 0. 0. 0.]\n",
      " [1. 1. 1. 1.]]\n",
      "[[0. 0. 0. 0. 1.]\n",
      " [0. 0. 0. 0. 1.]\n",
      " [0. 0. 0. 0. 1.]]\n"
     ]
    }
   ],
   "source": [
    "matrix_to_change = np.zeros([3,4])\n",
    "# TO DO\n",
    "# stack a 1s row\n",
    "one_row = np.ones([1,4])\n",
    "matrix_rows = np.vstack([matrix_to_change, one_row])\n",
    "print(matrix_rows)\n",
    "\n",
    "one_col = np.ones((matrix_to_change.shape[0], 1))\n",
    "matrix_cols = np.hstack([matrix_to_change, one_col])\n",
    "print(matrix_cols)\n",
    "# stack a 1s column\n"
   ]
  },
  {
   "cell_type": "markdown",
   "metadata": {
    "id": "n3IHtRq3hWni"
   },
   "source": [
    "What are the different constraints on the dimensions of the stacked vectors (or matrices)?\n",
    "\n",
    "## Linear algebra\n",
    "\n",
    "The code below uses loop iterations to do linear algebra. But as you will notice, it is much easier to use `numpy` functions to do this instead."
   ]
  },
  {
   "cell_type": "code",
   "execution_count": 68,
   "metadata": {
    "id": "4VzNxzXNiYN4"
   },
   "outputs": [
    {
     "name": "stdout",
     "output_type": "stream",
     "text": [
      "[[0, 0, 0, 0], [0, 0, 0, 0], [0, 0, 0, 0], [0, 0, 0, 0]]\n",
      "[[-55, 1, 115, -3], [-25, 106, 181, 69], [1, 21, -39, 6], [1, 110, 235, 82]]\n"
     ]
    }
   ],
   "source": [
    "mat1 = [[1, 2, 3, -8], [4, 5, 6, 7], [-1, -1, 2, 3], [8, 7, 2, 10]]\n",
    "mat2 = [[-4, 5, 6, -1], [1, 2, 31, 8], [-7, 8, 5, 2], [4, 4, -4, 3]]\n",
    "R1, C1 = len(mat1), len(mat1[0])\n",
    "R2, C2 = len(mat2), len(mat2[0])\n",
    "assert(C1 == R2)\n",
    "\n",
    "# Initialize the resulting matrix\n",
    "res = [[0 for r in range(C2)] for c in range(R1)]\n",
    "print(res)\n",
    "\n",
    "for r in range(R1):\n",
    "    for c in range(C2):\n",
    "        for i in range(C1):\n",
    "            res[r][c] += mat1[r][i] * mat2[i][c]\n",
    "print(res)\n"
   ]
  },
  {
   "cell_type": "markdown",
   "metadata": {
    "id": "Fvxa7fB7ilKd"
   },
   "source": [
    "**Q. Use numpy functions to do the above dot product computation using numpy functions. Do not use for loops.**"
   ]
  },
  {
   "cell_type": "code",
   "execution_count": 69,
   "metadata": {
    "id": "Et2zzEOcirAQ",
    "tags": []
   },
   "outputs": [
    {
     "name": "stdout",
     "output_type": "stream",
     "text": [
      "[[-55   1 115  -3]\n",
      " [-25 106 181  69]\n",
      " [  1  21 -39   6]\n",
      " [  1 110 235  82]]\n"
     ]
    }
   ],
   "source": [
    "mat1 = [[1, 2, 3, -8], [4, 5, 6, 7], [-1, -1, 2, 3], [8, 7, 2, 10]]\n",
    "mat2 = [[-4, 5, 6, -1], [1, 2, 31, 8], [-7, 8, 5, 2], [4, 4, -4, 3]]\n",
    "res = np.matmul(mat1, mat2)\n",
    "\n",
    "print(res)\n",
    "\n"
   ]
  },
  {
   "cell_type": "markdown",
   "metadata": {
    "id": "UyN4_gmD8KQm"
   },
   "source": [
    "## Unit Testing in Python\n",
    "\n",
    "In this section, we will create simple unit tests for the code examples we've discussed in this notebook. We will use Python's `unittest` framework, which provides a way to build and run tests. This will help ensure our functions behave as expected."
   ]
  },
  {
   "cell_type": "markdown",
   "metadata": {
    "id": "PrP1JvVH9OGY"
   },
   "source": [
    "**Q: (Optional) Add more tests to each of the unit-test classes provided below. You may use the hints provided in some of the code blocks.**"
   ]
  },
  {
   "cell_type": "code",
   "execution_count": 70,
   "metadata": {
    "id": "xiaMTZSX8KQm"
   },
   "outputs": [],
   "source": [
    "import unittest\n",
    "\n",
    "class TestListOperations(unittest.TestCase):\n",
    "    def test_list_append(self):\n",
    "        my_list = [1, 2, 3]\n",
    "        my_list.append(4)\n",
    "        self.assertEqual(my_list, [1, 2, 3, 4])\n",
    "\n",
    "    def test_list_slice(self):\n",
    "        my_list = list(range(10))\n",
    "        self.assertEqual(my_list[2:5], [2, 3, 4])\n"
   ]
  },
  {
   "cell_type": "code",
   "execution_count": 89,
   "metadata": {
    "id": "axo217JU8KQm"
   },
   "outputs": [],
   "source": [
    "import unittest\n",
    "import numpy as np\n",
    "\n",
    "def has_negative(lst):\n",
    "    \"\"\"Return True if the list contains a negative number.\"\"\"\n",
    "    return any(x < 0 for x in lst)\n",
    "\n",
    "class TestNegative(unittest.TestCase):\n",
    "\n",
    "    def test_list_has_negative_true(self):\n",
    "        sample = [1, -2, 3]\n",
    "        self.assertTrue(has_negative(sample))   # because -2 is negative\n",
    "\n",
    "    def test_list_has_negative_false(self):\n",
    "        sample = [1, 2, 3]\n",
    "        self.assertFalse(has_negative(sample))  # no negatives here\n",
    "\n",
    "    def test_numpy_reverse_true(self):\n",
    "        arr = np.array([1, 2, 3])\n",
    "        self.assertTrue(np.array_equal(arr[::-1], np.array([3, 2, 1])))\n",
    "\n",
    "    def test_numpy_reverse_false(self):\n",
    "        arr = np.array([1, 2, 3])\n",
    "        self.assertFalse(np.array_equal(arr[::-1], arr))  # reversed array is not the same as original\n",
    "        \n",
    "    # TO-DO: Add more tests.\n",
    "    def test_numpy_slice_false(self):\n",
    "        arr = np.array([1, 2, 3])\n",
    "        self.assertFalse(np.array_equal(arr[:-1], arr)) \n",
    "        \n",
    "    def test_numpy_slice_true(self):\n",
    "        arr = np.array([1, 2, 3])\n",
    "        self.assertTrue(np.array_equal(arr[:-1], [1,2])) \n",
    "\n",
    "    def test_numpy_slice_first_true(self):\n",
    "        arr = np.array([1, 2, 3])\n",
    "        self.assertTrue(np.array_equal(arr[1:], [2,3])) \n",
    "\n",
    "    def test_numpy_matmul(self):\n",
    "        arr = np.array([1, 2, 3])\n",
    "        arr1 = np.array([3, 2, 1])\n",
    "        res = np.matmul(arr, arr1)\n",
    "        self.assertTrue(np.array_equal(res, 10)) \n",
    "\n",
    "    def test_numpy_mean_true(self):  \n",
    "        arr = np.array([1, 2, 3])\n",
    "        res = arr.mean()\n",
    "        self.assertTrue(np.array_equal(res, 2.0))  \n",
    "\n",
    "    def test_numpy_mean_false(self):  \n",
    "        arr = np.array([1, 2, 3])\n",
    "        res = arr.mean()\n",
    "        self.assertFalse(np.array_equal(res, 3.0))  \n",
    "\n",
    "\n",
    "    # For example:\n",
    "    # - Check if a slice of a list equals what you expect\n",
    "    # - Check if matrix multiplication with identity returns the same matrix\n",
    "    # - Check if np.mean() produces the expected value"
   ]
  },
  {
   "cell_type": "code",
   "execution_count": 90,
   "metadata": {
    "id": "ys-2DJOd8KQn"
   },
   "outputs": [],
   "source": [
    "def multiply_and_sum(arr1, arr2):\n",
    "    \"\"\"\n",
    "    Your function should check if the multiplication can take place by checking the shape of arr1 and arr2\n",
    "\n",
    "    If that check passes, multiply the arrays and sum every element in them\n",
    "    \"\"\"\n",
    "    # pass # Write your function here\n",
    "    if arr1.shape != arr2.shape:\n",
    "        raise ValueError(\"Both arrays must have the same shape\")\n",
    "    return np.sum(arr1 * arr2)\n",
    "\n",
    "class TestArrayOperations(unittest.TestCase):\n",
    "\n",
    "    def test_multiply_and_sum(self):\n",
    "        # Test with integers\n",
    "        arr1 = np.array([1, 2, 3])\n",
    "        arr2 = np.array([4, 5, 6])\n",
    "        self.assertEqual(multiply_and_sum(arr1, arr2), 32)  # 1*4 + 2*5 + 3*6 = 32\n",
    "\n",
    "        # Test with a combination of positive and negative integers\n",
    "        arr3 = np.array([-1, -2, -3])\n",
    "        arr4 = np.array([7, 8, 9])\n",
    "        self.assertEqual(multiply_and_sum(arr3, arr4), -50)  # -1*7 + -2*8 + -3*9 = -42\n",
    "\n",
    "        # Test with zeroes\n",
    "        arr5 = np.array([0, 0, 0])\n",
    "        arr6 = np.array([10, 20, 30])\n",
    "        self.assertEqual(multiply_and_sum(arr5, arr6), 0)  # 0*10 + 0*20 + 0*30 = 0\n",
    "\n",
    "        # Test error on shape mismatch\n",
    "        arr7 = np.array([1, 2])\n",
    "        arr8 = np.array([1, 2, 3])\n",
    "        with self.assertRaises(ValueError):\n",
    "            multiply_and_sum(arr7, arr8)\n",
    "\n",
    "# TO-DO: Add more tests\n",
    "# For example,\n",
    "#   -Try with a 2D array (matrix) instead of a 1D list.\n",
    "#   -Try with an empty array: should it return 0?\n"
   ]
  },
  {
   "cell_type": "code",
   "execution_count": 91,
   "metadata": {
    "id": "WqZDSKL08KQn"
   },
   "outputs": [
    {
     "name": "stderr",
     "output_type": "stream",
     "text": [
      ".............\n",
      "----------------------------------------------------------------------\n",
      "Ran 13 tests in 0.004s\n",
      "\n",
      "OK\n"
     ]
    }
   ],
   "source": [
    "# Running all the tests we have defined\n",
    "if __name__ == '__main__':\n",
    "    unittest.main(argv=[''], exit=False)"
   ]
  },
  {
   "cell_type": "markdown",
   "metadata": {
    "id": "Ens9IjsQDIS4"
   },
   "source": [
    "You should test your methods and functions in all ways you can think of, hitting possible edge cases in corsework assessments we will provide you with some tests, but we will write and run more tests to evaluate your work."
   ]
  },
  {
   "cell_type": "markdown",
   "metadata": {
    "id": "xi1J0RC3mVhu"
   },
   "source": [
    "# ECS759P AI - Lab 1 (Part 2): NetworkX Basics\n",
    "\n",
    "Over the course of the next lab sessions you will be working with *graphs*. This is a type of data structure with nodes representing some concept or data point and edges connecting these nodes to show a relationship between them. A graph can be **directed** or **undirected**. More of this during the lectures.\n",
    "\n",
    "In this tutorial, we are going to use a useful python library called **NetworkX**. This library provides some useful tools to build, analyse and display graphs."
   ]
  },
  {
   "cell_type": "markdown",
   "metadata": {
    "id": "bv2mq8eOGSI4"
   },
   "source": [
    "## Dictionaries in Python\n",
    "\n",
    "Before we go into NetworkX graphs, it is important to consider a common data structure that can be used to represent graphs.\n",
    "\n",
    "A **dictionary** in Python is a built-in data type that stores data as *key–value pairs*.  \n",
    "- A **key** is like a label or name.  \n",
    "- A **value** is the data associated with that key.  \n",
    "\n",
    "Dictionaries are very useful when you want to quickly look up values using a meaningful key (instead of just positions like in lists).\n"
   ]
  },
  {
   "cell_type": "code",
   "execution_count": 74,
   "metadata": {
    "id": "uCfPm3gzGQ3R"
   },
   "outputs": [
    {
     "name": "stdout",
     "output_type": "stream",
     "text": [
      "Capital of France: Paris\n",
      "Capital of Germany: Berlin\n"
     ]
    }
   ],
   "source": [
    "# Example: Creating a dictionary of capitals\n",
    "capitals = {\n",
    "    \"France\": \"Paris\",\n",
    "    \"Germany\": \"Berlin\",\n",
    "    \"Italy\": \"Rome\"\n",
    "}\n",
    "\n",
    "# Accessing values using keys\n",
    "print(\"Capital of France:\", capitals[\"France\"])\n",
    "print(\"Capital of Germany:\", capitals[\"Germany\"])\n"
   ]
  },
  {
   "cell_type": "code",
   "execution_count": 75,
   "metadata": {
    "id": "rHPEYVKdIOkg"
   },
   "outputs": [
    {
     "name": "stdout",
     "output_type": "stream",
     "text": [
      "{'France': 'Paris', 'Italy': 'Milan', 'Spain': 'Madrid'}\n"
     ]
    }
   ],
   "source": [
    "# Adding a new key–value pair\n",
    "capitals[\"Spain\"] = \"Madrid\"\n",
    "\n",
    "# Updating an existing value\n",
    "capitals[\"Italy\"] = \"Milan\"   # (not correct, just for demo!)\n",
    "\n",
    "# Deleting a key–value pair\n",
    "del capitals[\"Germany\"]\n",
    "\n",
    "print(capitals)\n"
   ]
  },
  {
   "cell_type": "code",
   "execution_count": 76,
   "metadata": {
    "id": "iQmB9GSyIV2i"
   },
   "outputs": [
    {
     "name": "stdout",
     "output_type": "stream",
     "text": [
      "Alice's major: CS\n",
      "Bob's age: 22\n"
     ]
    }
   ],
   "source": [
    "# Nested dictionaries are useful for storing structured data\n",
    "students = {\n",
    "    \"Alice\": {\"age\": 24, \"major\": \"CS\"},\n",
    "    \"Bob\": {\"age\": 22, \"major\": \"Math\"}\n",
    "}\n",
    "\n",
    "print(\"Alice's major:\", students[\"Alice\"][\"major\"])\n",
    "print(\"Bob's age:\", students[\"Bob\"][\"age\"])\n"
   ]
  },
  {
   "cell_type": "markdown",
   "metadata": {
    "id": "pO2m1HE7Ij67"
   },
   "source": [
    "## Graphs as dictionaries\n",
    "\n",
    "Now that you’ve seen how dictionaries work, notice how we can store **connections** or **relationships** in them.  \n",
    "If we let each **key** be a node, and the **value** be another dictionary of its neighbors, we can represent a **graph** using nested dictionaries.  \n"
   ]
  },
  {
   "cell_type": "code",
   "execution_count": 77,
   "metadata": {
    "id": "aQf6scrHI2KX"
   },
   "outputs": [],
   "source": [
    "simple_graph = {\"node_A\" : {\"node_B\" : 10, \"node_C\" : 75, \"node_D\" : 20},\n",
    "                \"node_B\" : {\"node_A\" : 10, \"node_C\" : 35, \"node_D\" : 25},\n",
    "                \"node_C\" : {\"node_B\" : 35, \"node_A\" : 75, \"node_D\" : 30},\n",
    "                \"node_D\" : {\"node_B\" : 25, \"node_A\" : 20, \"node_C\" : 30}}"
   ]
  },
  {
   "cell_type": "markdown",
   "metadata": {
    "id": "5m-zuT3RJDNL"
   },
   "source": [
    "The above dictionary contains all the information required to represent a graph. Each *key* of the `simple_graph` dictionary corresponds to a *vertex* `v`, a.k.a. a *node*. The *value* of a vertex is itself a dictionary, containing the information about the *neighbours* of that vertex. For instance `node_A` is connected to `node_B`, `node_C` and `node_D` via *edges*, a.k.a., *links*,  having *step costs*, a.k.a. *weights* of 10, 75, and 20, respectively.\n",
    "\n",
    "An advantage of this representation is the ease of access to all the information. A disadvantage is that it is rather memory-inefficient (note the size of the dictionary to represent a graph of only 4 nodes and 6 links), as it contains a lot of redundant information.\n"
   ]
  },
  {
   "cell_type": "markdown",
   "metadata": {
    "id": "9HhgmsjRJP7B"
   },
   "source": [
    "As a warm up, with a pen and paper or in your head, try to visualise the graph and then find the shortest path from `node_A` to `node_C`. For the (simple) example above, **once** you visualize the graph, it is quite straightforward to analyse it. However, this can quickly show its limitations. For instance, let's try to visualise the following example:"
   ]
  },
  {
   "cell_type": "code",
   "execution_count": 78,
   "metadata": {
    "id": "MpWWd-kDJSXE"
   },
   "outputs": [],
   "source": [
    "more_complex_graph = {\"vertex1\" : {\"vertex2\" : 24, \"vertex3\" : 52, \"vertex0\" : 17},\n",
    "                      \"vertex2\" : {\"vertex0\" : 14, \"vertex3\" : 64, \"vertex5\" : 11, \"vertex1\" : 24, \"vertex4\": 41},\n",
    "                      \"vertex0\": {\"vertex1\" : 17, \"vertex2\" : 14, \"vertex5\" : 44},\n",
    "                      \"vertex3\": {\"vertex1\" : 52, \"vertex2\" : 64},\n",
    "                      \"vertex4\" : {\"vertex2\" : 41},\n",
    "                      \"vertex5\": {\"vertex2\" : 11, \"vertex0\" : 44}}"
   ]
  },
  {
   "cell_type": "markdown",
   "metadata": {
    "id": "3wbGpjRvKAyU"
   },
   "source": [
    "**Q: Using the** `more_complex_graph` **dictionary above, write code to print out each vertex and all of its neighbors with their edge weights.**\n",
    "\n",
    "*Hint*: You can iterate through a dictionary using `.items()`. Check [this](https://www.geeksforgeeks.org/python/iterate-over-a-dictionary-in-python/) out if you need further support."
   ]
  },
  {
   "cell_type": "code",
   "execution_count": 92,
   "metadata": {
    "id": "EpCuxuYOKopx"
   },
   "outputs": [
    {
     "name": "stdout",
     "output_type": "stream",
     "text": [
      "vertex1: {'vertex2': 24, 'vertex3': 52, 'vertex0': 17}\n",
      "vertex2: {'vertex0': 14, 'vertex3': 64, 'vertex5': 11, 'vertex1': 24, 'vertex4': 41}\n",
      "vertex0: {'vertex1': 17, 'vertex2': 14, 'vertex5': 44}\n",
      "vertex3: {'vertex1': 52, 'vertex2': 64}\n",
      "vertex4: {'vertex2': 41}\n",
      "vertex5: {'vertex2': 11, 'vertex0': 44}\n"
     ]
    }
   ],
   "source": [
    "# TO-DO:\n",
    "more_complex_graph = {\"vertex1\" : {\"vertex2\" : 24, \"vertex3\" : 52, \"vertex0\" : 17},\n",
    "                      \"vertex2\" : {\"vertex0\" : 14, \"vertex3\" : 64, \"vertex5\" : 11, \"vertex1\" : 24, \"vertex4\": 41},\n",
    "                      \"vertex0\": {\"vertex1\" : 17, \"vertex2\" : 14, \"vertex5\" : 44},\n",
    "                      \"vertex3\": {\"vertex1\" : 52, \"vertex2\" : 64},\n",
    "                      \"vertex4\" : {\"vertex2\" : 41},\n",
    "                      \"vertex5\": {\"vertex2\" : 11, \"vertex0\" : 44}}\n",
    "for label, values in more_complex_graph.items():\n",
    "     print(f\"{label}: {values}\")\n"
   ]
  },
  {
   "cell_type": "markdown",
   "metadata": {
    "id": "tnYRUDFUK4zB"
   },
   "source": [
    "## NetworkX\n",
    "\n",
    "Visualizing the above dictionary can be quite difficult.\n",
    "\n",
    "That is why we are going to use a useful python library called **[NetworkX](https://networkx.github.io/documentation/stable/)**. This library provides some useful tools to build, analyse and display graphs. One of its classes allowing to encode a graph is called `Graph`. Although there exists once again a lot of ways to generate graphs with this library, we are going to go through the basics. Consider the following example:"
   ]
  },
  {
   "cell_type": "code",
   "execution_count": 79,
   "metadata": {
    "id": "9Xpyv9E7LUXv"
   },
   "outputs": [],
   "source": [
    "import networkx as nx\n",
    "import matplotlib.pyplot as plt\n",
    "\n",
    "dummy_nx_graph = nx.Graph()\n",
    "dummy_nx_graph.add_node(\"Hello\")\n",
    "dummy_nx_graph.add_node(\"amigo.\")"
   ]
  },
  {
   "cell_type": "markdown",
   "metadata": {
    "id": "H4oemXbeLgkb"
   },
   "source": [
    "Here we just added two nodes (or vertices). Let's visualise them:\n"
   ]
  },
  {
   "cell_type": "code",
   "execution_count": 80,
   "metadata": {
    "id": "ozKHLOYeLZZD"
   },
   "outputs": [
    {
     "data": {
      "image/png": "[encoded data removed]",
      "text/plain": [
       "<Figure size 640x480 with 1 Axes>"
      ]
     },
     "metadata": {},
     "output_type": "display_data"
    }
   ],
   "source": [
    "nx.draw(dummy_nx_graph, with_labels=True, node_size=1500, font_weight='bold')\n",
    "plt.show()"
   ]
  },
  {
   "cell_type": "markdown",
   "metadata": {
    "id": "pHu_oF1yLng4"
   },
   "source": [
    "Well, two nodes alone, without any edge between them, ain't that interesting! So let's add a link:"
   ]
  },
  {
   "cell_type": "code",
   "execution_count": 81,
   "metadata": {
    "id": "qoVC0xEvLqae"
   },
   "outputs": [
    {
     "data": {
      "image/png": "[encoded data removed]",
      "text/plain": [
       "<Figure size 640x480 with 1 Axes>"
      ]
     },
     "metadata": {},
     "output_type": "display_data"
    }
   ],
   "source": [
    "dummy_nx_graph.add_edge(\"Hello\", \"amigo.\")\n",
    "nx.draw(dummy_nx_graph, with_labels=True, node_size=1500, font_weight='bold')\n",
    "plt.show()"
   ]
  },
  {
   "cell_type": "markdown",
   "metadata": {
    "id": "ZjzyCVNgLxIU"
   },
   "source": [
    "We can also make our graph grow just by adding edges (which will also create the necessary new nodes for us).\n",
    "\n",
    "We can add weights (step costs) to each of the existing edges, or alternatively, specify the weight when creating an edge:"
   ]
  },
  {
   "cell_type": "code",
   "execution_count": 82,
   "metadata": {
    "id": "sSoFKrXDL1qX"
   },
   "outputs": [
    {
     "data": {
      "image/png": "[encoded data removed]",
      "text/plain": [
       "<Figure size 640x480 with 1 Axes>"
      ]
     },
     "metadata": {},
     "output_type": "display_data"
    }
   ],
   "source": [
    "dummy_nx_graph[\"Hello\"][\"amigo.\"]['weight'] = 1 # adding a weight to an existing edge\n",
    "dummy_nx_graph.add_edge(\"amigo.\",  \"Ready\", weight=1.5) # adding a new edge and specifying its weight\n",
    "nx.draw(dummy_nx_graph, with_labels=True, node_size=1500, font_weight='bold')\n",
    "plt.show()"
   ]
  },
  {
   "cell_type": "markdown",
   "metadata": {
    "id": "BUhXlxvCL6c9"
   },
   "source": [
    "Adding nodes or edges one by one would be too painful for big graphs. Instead, we can add multiple edges at a once from an iterable container:\n"
   ]
  },
  {
   "cell_type": "code",
   "execution_count": 83,
   "metadata": {
    "id": "PWVChfJkL67C"
   },
   "outputs": [
    {
     "data": {
      "image/png": "[encoded data removed]",
      "text/plain": [
       "<Figure size 640x480 with 1 Axes>"
      ]
     },
     "metadata": {},
     "output_type": "display_data"
    }
   ],
   "source": [
    "dummy_nx_graph.add_nodes_from([\"Ready\", \"for\"])\n",
    "dummy_nx_graph.add_weighted_edges_from([(\"Ready\", \"for\", 4.2),\n",
    "                                        (\"for\", \"today\", 9.8),\n",
    "                                        (\"today\", \"?\", 7)])\n",
    "nx.draw(dummy_nx_graph, with_labels=True, node_size=1500, font_weight='bold')\n",
    "plt.show()"
   ]
  },
  {
   "cell_type": "markdown",
   "metadata": {
    "id": "uKivfoN3MMpb"
   },
   "source": [
    "**Q. By filling the gaps below, create and visualise the equivalent of `simple_graph` that we specified using nested dictionaries at the beginning of this lab.**"
   ]
  },
  {
   "cell_type": "code",
   "execution_count": 103,
   "metadata": {
    "id": "c16A-YAAMZQz"
   },
   "outputs": [
    {
     "data": {
      "image/png": "[encoded data removed]",
      "text/plain": [
       "<Figure size 640x480 with 1 Axes>"
      ]
     },
     "metadata": {},
     "output_type": "display_data"
    },
    {
     "data": {
      "image/png": "[encoded data removed]",
      "text/plain": [
       "<Figure size 640x480 with 1 Axes>"
      ]
     },
     "metadata": {},
     "output_type": "display_data"
    }
   ],
   "source": [
    "\n",
    "# Your code to create and display simple_graph:\n",
    "simple_nx_graph = nx.Graph()\n",
    "\n",
    "#TO-DO: Replace the ellipses with working code\n",
    "for node, connected_elem in simple_graph.items():\n",
    "    for connected_node, weight in connected_elem.items():\n",
    "        simple_nx_graph.add_edge(node, connected_node, weight = weight)\n",
    "\n",
    "nx.draw(simple_nx_graph, with_labels=True, node_size=1500, font_weight='bold')\n",
    "plt.show()\n",
    "\n",
    "simple_nx_graph = nx.Graph()\n",
    "\n",
    "# TODO: Iterate through the dictionary to add edges\n",
    "for node, connected_elem in simple_graph.items():\n",
    "    for connected_node, weight in connected_elem.items():\n",
    "        simple_nx_graph.add_edge(node, connected_node, weight = weight)\n",
    "\n",
    "# TODO: Draw the graph with labels\n",
    "nx.draw(simple_nx_graph, with_labels=True, node_size=1000, font_weight='bold', font_color='darkred',)\n",
    "plt.show()"
   ]
  },
  {
   "cell_type": "markdown",
   "metadata": {
    "id": "pSxj_O_AMsEn"
   },
   "source": [
    "This is more convenient than reading and understanding a graph from a structure like a nested dictionary.\n",
    "\n",
    "However, the visualisation still leaves something to be desired: the weights are not appearing! Let's solve this by first drawing only the vertices and then the weighted edges."
   ]
  },
  {
   "cell_type": "code",
   "execution_count": 104,
   "metadata": {
    "id": "shpcmUtSMrUO"
   },
   "outputs": [
    {
     "data": {
      "image/png": "[encoded data removed]",
      "text/plain": [
       "<Figure size 800x400 with 1 Axes>"
      ]
     },
     "metadata": {},
     "output_type": "display_data"
    }
   ],
   "source": [
    "def show_weighted_graph(networkx_graph, node_size, font_size, fig_size):\n",
    "  # Allocate the given fig_size in order to have space for each node\n",
    "  plt.figure(num=None, figsize=fig_size, dpi=80)\n",
    "  plt.axis('off')\n",
    "  # Compute the position of each vertex in order to display it nicely\n",
    "  nodes_position = nx.spring_layout(networkx_graph)\n",
    "  # You can change the different layouts depending on your graph\n",
    "  # Extract the weights corresponding to each edge in the graph\n",
    "  edges_weights  = nx.get_edge_attributes(networkx_graph,'weight')\n",
    "  # Draw the nodes (you can change the color)\n",
    "  nx.draw_networkx_nodes(networkx_graph, nodes_position, node_size=node_size,\n",
    "                         node_color = [\"orange\"]*networkx_graph.number_of_nodes())\n",
    "  # Draw only the edges\n",
    "  nx.draw_networkx_edges(networkx_graph, nodes_position,\n",
    "                         edgelist=list(networkx_graph.edges), width=2)\n",
    "  # Add the weights\n",
    "  nx.draw_networkx_edge_labels(networkx_graph, nodes_position,\n",
    "                               edge_labels = edges_weights)\n",
    "  # Add the labels of the nodes\n",
    "  nx.draw_networkx_labels(networkx_graph, nodes_position, font_size=font_size,\n",
    "                          font_family='sans-serif')\n",
    "  plt.axis('off')\n",
    "  plt.show()\n",
    "\n",
    "show_weighted_graph(dummy_nx_graph, 1500, 15, (10,5))"
   ]
  },
  {
   "cell_type": "markdown",
   "metadata": {
    "id": "-W4SEOxnM8e5"
   },
   "source": [
    "Even though we can now display graphs nicely, creating large graphs is still painful. That is why we are going to use another nice feature of `networkX` that allows creating a graph from a dictionary."
   ]
  },
  {
   "cell_type": "code",
   "execution_count": 105,
   "metadata": {
    "id": "POYp6PWYM6-U"
   },
   "outputs": [
    {
     "data": {
      "image/png": "[encoded data removed]",
      "text/plain": [
       "<Figure size 800x560 with 1 Axes>"
      ]
     },
     "metadata": {},
     "output_type": "display_data"
    }
   ],
   "source": [
    "the_more_complex_graph = nx.Graph(more_complex_graph)\n",
    "show_weighted_graph(the_more_complex_graph, 2500, 12, (10,7))"
   ]
  },
  {
   "cell_type": "markdown",
   "metadata": {
    "id": "8xBXvu5yNEqo"
   },
   "source": [
    "The weights contained inside the dictionary are not displayed. That's because the library expects a specific format like the following:\n",
    "\n",
    "`{\"nodeA\" : {\"nodeB\" : {\"weight\" : 10}}}`\n",
    "\n",
    "Let's try:"
   ]
  },
  {
   "cell_type": "code",
   "execution_count": 106,
   "metadata": {
    "id": "s8Hoh457NJdH"
   },
   "outputs": [
    {
     "data": {
      "image/png": "[encoded data removed]",
      "text/plain": [
       "<Figure size 400x400 with 1 Axes>"
      ]
     },
     "metadata": {},
     "output_type": "display_data"
    }
   ],
   "source": [
    "show_weighted_graph(nx.Graph({\"nodeA\" : {\"nodeB\" : {\"weight\" : 10}}}), 1000, 10, (5,5))"
   ]
  },
  {
   "cell_type": "markdown",
   "metadata": {
    "id": "K6eSoW5ENPnx"
   },
   "source": [
    "**Q. By filling the gaps below, reformat** `more_complex_graph` **in order to display it properly (with the weights).**\n",
    "\n"
   ]
  },
  {
   "cell_type": "code",
   "execution_count": 109,
   "metadata": {
    "id": "__xPL6k_NNVq"
   },
   "outputs": [
    {
     "data": {
      "image/png": "[encoded data removed]",
      "text/plain": [
       "<Figure size 800x560 with 1 Axes>"
      ]
     },
     "metadata": {},
     "output_type": "display_data"
    },
    {
     "data": {
      "image/png": "[encoded data removed]",
      "text/plain": [
       "<Figure size 800x560 with 1 Axes>"
      ]
     },
     "metadata": {},
     "output_type": "display_data"
    }
   ],
   "source": [
    "####### SOLUTION #######\n",
    "\n",
    "# Your code to transform the more_complex_graph to something that can be\n",
    "# given as input of nx.Graph() and be displayed properly (with the weights)\n",
    "\n",
    "more_complex_dict = dict()\n",
    "\n",
    "for node, connected_elem in more_complex_graph.items():\n",
    "  temp_dict = dict()\n",
    "  for connected_node, connection_weight in connected_elem.items():\n",
    "    temp_dict[connected_node] = {\"weight\" : connection_weight}\n",
    "  more_complex_dict[node] = temp_dict\n",
    "\n",
    "\n",
    "show_weighted_graph(nx.Graph(more_complex_dict), 2500, 12, (10,7))\n",
    "\n",
    "\n",
    "# Your code to transform the more_complex_graph to something that can be\n",
    "# given as input of nx.Graph() and be displayed properly (with the weights)\n",
    "\n",
    "more_complex_dict = dict()\n",
    "\n",
    "for node, connected_elems in more_complex_graph.items():\n",
    "    temp_dict = dict()\n",
    "    for connected_node, connection_weight in connected_elems.items():\n",
    "        temp_dict[connected_node] = {\"weight\": connection_weight}\n",
    "    # TODO: Add temp_dict to more_complex_dict with the correct key\n",
    "    more_complex_dict[node] = temp_dict\n",
    "\n",
    "show_weighted_graph(nx.Graph(more_complex_dict), 2500, 12, (10,7))\n"
   ]
  },
  {
   "cell_type": "markdown",
   "metadata": {
    "id": "WBZl5L5ZNpo1"
   },
   "source": [
    "Besides nice visualisation, `networkX` provides a lot of functions that are going to make our life easier. It can for instance give us the number of nodes (`<graph>.number_of_nodes()`), number of edges (`<graph>.number_of_edges()`), the name and values of nodes and edges (`list(<graph>.edges())` and `list(<graph>.nodes())`), the neighbours of a given node (`list(<graph>.neighbors(<node_name>))`), adjacencies and so on.\n",
    "\n",
    "For more information you can have a look at the documentation [here](https://networkx.github.io/documentation/stable/tutorial.html#).\n"
   ]
  }
 ],
 "metadata": {
  "colab": {
   "collapsed_sections": [
    "hUiI8HvMW5eS"
   ],
   "provenance": []
  },
  "kernelspec": {
   "display_name": "Python 3 (ipykernel)",
   "language": "python",
   "name": "python3"
  },
  "language_info": {
   "codemirror_mode": {
    "name": "ipython",
    "version": 3
   },
   "file_extension": ".py",
   "mimetype": "text/x-python",
   "name": "python",
   "nbconvert_exporter": "python",
   "pygments_lexer": "ipython3",
   "version": "3.11.9"
  }
 },
 "nbformat": 4,
 "nbformat_minor": 4
}
